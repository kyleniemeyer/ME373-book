{
 "cells": [
  {
   "cell_type": "markdown",
   "metadata": {},
   "source": [
    "# Eigenvalue problems\n",
    "\n",
    "\"Eigenvalue\" means characteristic value. These types of problems show up in many areas involving boundary-value problems, where we may not be able to obtain an analytical solution, but we can identify certain characteristic values that tell us important information about the system: the eigenvalues.\n",
    "\n",
    "## Example: beam buckling\n",
    "\n",
    "Let's consider deflection in a simply supported (static) vertical beam: $y(x)$, with boundary conditions $y(0) = 0$ and $y(L) = 0$. To get the governing equation, start with considering the sum of moments around the upper pin:\n",
    "\\begin{align}\n",
    "\\sum M &= M_z + P y = 0 \\\\\n",
    "M_z &= -P y\n",
    "\\end{align}\n",
    "\n",
    "We also know that $M_z = E I y''$, so we can obtain\n",
    "\\begin{align}\n",
    "M_z = E I \\frac{d^2 y}{dx^2} &= -P y \\\\\n",
    "y'' + \\frac{P}{EI} y &= 0\n",
    "\\end{align}\n",
    "This equation governs the stability of a beam, considering small deflections.\n",
    "To simplify things, let's define $\\lambda^2 = \\frac{P}{EI}$, which gives us the ODE\n",
    "\\begin{equation}\n",
    "y'' + \\lambda^2 y = 0\n",
    "\\end{equation}\n",
    "We can get the general solution to this:\n",
    "\\begin{equation}\n",
    "y(x) = A \\cos (\\lambda x) + B \\sin (\\lambda x)\n",
    "\\end{equation}\n",
    "\n",
    "To find the coefficients, let's apply the boundary conditions, starting with $x=0$:\n",
    "\\begin{align}\n",
    "y(x=0) &= 0 = A \\cos 0 + B \\sin 0 \\\\\n",
    "\\rightarrow A &= 0 \\\\\n",
    "y(x=L) &= 0 = B \\sin (\\lambda L)\n",
    "\\end{align}\n",
    "Now what? $B \\neq 0$, because otherwise we would have the trivial solution $y(x) = 0$. Instead, to satisfy the boundary condition, we need\n",
    "\\begin{align}\n",
    "B \\neq 0 \\rightarrow \\sin (\\lambda L) &= 0 \\\\\n",
    "\\text{so} \\quad \\lambda L &= n \\pi \\quad n = 1, 2, 3, \\ldots, \\infty \\\\\n",
    "\\lambda &= \\frac{n \\pi}{L} \\quad n = 1, 2, 3, \\ldots, \\infty\n",
    "\\end{align}\n",
    "$\\lambda$ give the the **eigenvalues** for this problem; as you can see, there are an infinite number, that correspond to **eigenfunctions**:\n",
    "\\begin{equation}\n",
    "y_n = B \\sin \\left( \\frac{n \\pi x}{L} \\right) \\quad n = 1, 2, 3, \\ldots, \\infty\n",
    "\\end{equation}\n",
    "\n",
    "The eigenvalues and associated eigenfunctions physically represent different modes of deflection.\n",
    "For example, consider the first three modes (corresponding to $n = 1, 2, 3$):"
   ]
  },
  {
   "cell_type": "code",
   "execution_count": 3,
   "metadata": {},
   "outputs": [
    {
     "data": {
      "image/png": "[encoded data removed]",
      "text/plain": [
       "<IPython.core.display.Image object>"
      ]
     },
     "metadata": {},
     "output_type": "display_data"
    }
   ],
   "source": [
    "clear all; clc\n",
    "\n",
    "L = 1.0;\n",
    "x = linspace(0, L);\n",
    "subplot(1,3,1);\n",
    "y = sin(pi * x / L);\n",
    "plot(y, x); title('n = 1')\n",
    "subplot(1,3,2);\n",
    "y = sin(2 * pi * x / L);\n",
    "plot(y, x); title('n = 2')\n",
    "subplot(1,3,3);\n",
    "y = sin(3* pi * x / L);\n",
    "plot(y, x); title('n = 3')"
   ]
  },
  {
   "cell_type": "markdown",
   "metadata": {},
   "source": [
    "Here we see different modes of how the beam will buckle. How do we know when this happens?\n",
    "\n",
    "Recall that the eigenvalue is connected to the physical properties of the beam:\n",
    "\\begin{gather}\n",
    "\\lambda^2 = \\frac{P}{EI} \\rightarrow \\lambda = \\sqrt{\\frac{P}{EI} = \\frac{n \\pi}{L} \\\\\n",
    "P = \\frac{EI}{L} n^2 \\pi^2\n",
    "\\end{gather}\n",
    "This means that when the combination of load force and beam properties match certain values, the beam will deflect—and buckle—in one of the modes corresponding to the associated eigenfunction.\n",
    "\n",
    "In particular, the first mode ($n=1$) is interesting, because this is the first one that will be encountered if a load starts at zero and increases. This is the **Euler critical load** of buckling, $P_{cr}$:\n",
    "\\begin{gather}\n",
    "\\lambda_1 = \\frac{\\pi}{L} \\rightarrow \\lambda_1^2 = \\frac{P}{EI} = \\frac{\\pi^2}{L^2} \\\\\n",
    "P_{cr} = \\frac{\\pi^2 E I}{L^2}\n",
    "\\end{gather}"
   ]
  },
  {
   "cell_type": "markdown",
   "metadata": {},
   "source": [
    "## Example: beam buckling with different boundary conditions\n",
    "\n",
    "Let's consider a slightly different case, where at $x=0$ the beam is supported such that $y'(0) = 0$. How does the beam buckle in this case?\n",
    "\n",
    "The governing equation and general solution are the same:\n",
    "\\begin{align}\n",
    "y'' + \\lambda^2 y &= 0 \\\\\n",
    "y(x) &= A \\cos (\\lambda x) + B \\sin (\\lambda x)\n",
    "\\end{align}\n",
    "but our boundary conditions are now different:\n",
    "\\begin{align}\n",
    "y'(0) = 0 = -\\lambda A \\sin(0) + \\lambda B\\cos(0) \\\\\n",
    "\\rightarrow B &= 0 \\\\\n",
    "y &= A \\cos (\\lambda x) \\\\\n",
    "y(L) &= 0 = A \\cos (\\lambda L) \\\\\n",
    "A \\neq 0 \\rightarrow \\cos(\\lambda L) &= 0 \\\\\n",
    "\\text{so} \\quad \\lambda L &= \\frac{(2n-1) \\pi}{2} \\quad n = 1,2,3,\\ldots, \\infty \\\\\n",
    "\\lambda &= \\frac{(2n-1) \\pi}{2 L} \\quad n = 1,2,3,\\ldots, \\infty\n",
    "\\end{align}\n",
    "\n",
    "Then, the critical buckling load, again corresponding to $n=1$, is\n",
    "\\begin{equation}\n",
    "P_{cr} = \\frac{\\pi^2 EI}{4 L^2}\n",
    "\\end{equation}"
   ]
  },
  {
   "cell_type": "code",
   "execution_count": null,
   "metadata": {},
   "outputs": [],
   "source": []
  }
 ],
 "metadata": {
  "kernelspec": {
   "display_name": "Matlab",
   "language": "matlab",
   "name": "matlab"
  },
  "language_info": {
   "codemirror_mode": "octave",
   "file_extension": ".m",
   "help_links": [
    {
     "text": "MetaKernel Magics",
     "url": "https://metakernel.readthedocs.io/en/latest/source/README.html"
    }
   ],
   "mimetype": "text/x-octave",
   "name": "matlab",
   "version": "0.16.7"
  }
 },
 "nbformat": 4,
 "nbformat_minor": 2
}
