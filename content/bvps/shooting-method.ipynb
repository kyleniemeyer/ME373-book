{
 "cells": [
  {
   "cell_type": "markdown",
   "metadata": {},
   "source": [
    "# Shooting Method\n",
    "\n",
    "Boundary-value problems are also ordinary differential equations—the difference is that our two constraints are at boundaries of the domain, rather than both being at the starting point.\n",
    "\n",
    "For example, consider the ODE\n",
    "\\begin{equation}\n",
    "y^{\\prime\\prime} + xy^{\\prime} - xy = 2x\n",
    "\\end{equation}\n",
    "with the boundary conditions $y(0)=1$ and $y(2)=8$.\n",
    "\n",
    "The numerical methods we have already discussed (e.g., Forward Euler, Runge-Kutta) require values of $y$ and $y^{\\prime}$ at the starting point, $x=0$. So we can't use these directly because we are missing $y^{\\prime}(0)$. \n",
    "\n",
    "But, what if we could *guess* a value for the missing initial condition, then integrate towards the second boundary condition using one of our familiar numerical methods, and then adjust our guess if necessary and repeat? This concept is the **shooting method**.\n",
    "\n",
    "The shooting method algorithm is:\n",
    "\n",
    "1. Guess a value of the missing initial condition; in this case, that is $y'(0)$.\n",
    "2. Integrate the ODE like an initial-value problem, using our existing numerical methods, to get the given boundary condition(s); in this case, that is $y(L)$.\n",
    "3. Assuming your trial solution for $y(L)$ does not match the given boundary condition, adjust your guess for $y'(0)$ and repeat.\n",
    "\n",
    "Now, this algorithm will not work particularly well if all your guesses are random/uninformed. Fortunately, we can use linear interpolation to inform a third guess based on two initial attempts:\n",
    "\\begin{align}\n",
    "\\text{guess 3} &= \\text{guess 2} + m \\left( \\text{target} - \\text{solution 2} \\right) \\\\\n",
    "m &= \\frac{\\text{guess 1} - \\text{guess 2}}{\\text{solution 1} - \\text{solution 2}}\n",
    "\\end{align}\n",
    "where \"target\" is the target boundary condition—in this case, $y(L)$."
   ]
  },
  {
   "cell_type": "markdown",
   "metadata": {},
   "source": [
    "## Example: linear ODE\n",
    "\n",
    "Let's try solving the given ODE using the shooting method:\n",
    "\\begin{equation}\n",
    "y^{\\prime\\prime} + xy^{\\prime} - xy = 2x\n",
    "\\end{equation}\n",
    "with the boundary conditions $y(0)=1$ and $y(2)=8$.\n",
    "\n",
    "First, we need to convert this 2nd-order ODE into a system of two 1st-order ODEs, where we can define $u = y'$:\n",
    "\\begin{align}\n",
    "y' &= u \\\\\n",
    "u' &= 2x + xy - xu\n",
    "\\end{align}"
   ]
  },
  {
   "cell_type": "code",
   "execution_count": 1,
   "metadata": {},
   "outputs": [
    {
     "name": "stdout",
     "output_type": "stream",
     "text": [
      "Created file '/Users/niemeyek/projects/ME373-book/content/bvps/shooting_rhs.m'.\n"
     ]
    }
   ],
   "source": [
    "%%file shooting_rhs.m\n",
    "function dydx = shooting_rhs(x, y)\n",
    "\n",
    "dydx = zeros(2,1);\n",
    "dydx(1) = y(2);\n",
    "dydx(2) = 2*x - x*y(2) + x*y(1);"
   ]
  },
  {
   "cell_type": "code",
   "execution_count": 13,
   "metadata": {},
   "outputs": [
    {
     "name": "stdout",
     "output_type": "stream",
     "text": [
      "Solution 1:  6.00\n",
      "Solution 2: 11.96\n",
      "Guess 3:     2.01\n",
      "Solution 3:  8.00\n",
      "Target:      8.00\n"
     ]
    },
    {
     "data": {
      "image/png": "[encoded data removed]",
      "text/plain": [
       "<IPython.core.display.Image object>"
      ]
     },
     "metadata": {},
     "output_type": "display_data"
    }
   ],
   "source": [
    "clear all; clc\n",
    "\n",
    "% target boundary condition\n",
    "target = 8;\n",
    "\n",
    "% Pick a guess for y'(0) of 1\n",
    "guess1 = 1;\n",
    "[X, Y] = ode45('shooting_rhs', [0 2], [1 guess1]);\n",
    "solution1= Y(end,1);\n",
    "fprintf('Solution 1: %5.2f\\n', solution1);\n",
    "\n",
    "% Pick a second guess for y'(0) of 4\n",
    "guess2 = 4;\n",
    "[X, Y] = ode45('shooting_rhs', [0 2], [1 guess2]);\n",
    "solution2 = Y(end,1);\n",
    "fprintf('Solution 2: %5.2f\\n', solution2);\n",
    "\n",
    "% now use linear interpolation to find a new guess\n",
    "m = (guess1 - guess2)/(solution1 - solution2);\n",
    "guess3 = guess2 + m*(target-solution2);\n",
    "fprintf('Guess 3:    %5.2f\\n', guess3);\n",
    "\n",
    "[X, Y] = ode45('shooting_rhs', [0 2], [1 guess3]);\n",
    "solution3 = Y(end,1);\n",
    "fprintf('Solution 3: %5.2f\\n', solution3);\n",
    "fprintf('Target:     %5.2f\\n', target);\n",
    "\n",
    "plot(X, Y(:,1)); axis([0 2 0 9])"
   ]
  },
  {
   "cell_type": "markdown",
   "metadata": {},
   "source": [
    "As you can see, using linear interpolation, we are able to find the correct guess for the missing initial condition $y'(0)$ with in just three steps. This works so well because this is a *linear* ODE. If we had a nonlinear ODE, it would take more tries, as we'll see shortly."
   ]
  },
  {
   "cell_type": "markdown",
   "metadata": {},
   "source": [
    "## Example: nonlinear ODE\n",
    "\n",
    "We can use the shooting method to solve a famous fluids problem: the [Blasius boundary layer](https://en.wikipedia.org/wiki/Blasius_boundary_layer).\n",
    "\n",
    "<figure>\n",
    "  <center>\n",
    "  <img src=\"../images/boundary-layer.png\" alt=\"Laminar boundary layer, from https://commons.wikimedia.org/wiki/File:Laminar_boundary_layer_scheme.svg\" style=\"width: 400px;\"/>\n",
    "  <figcaption>Figure: Laminar boundary layer, taken from <a href=\"https://commons.wikimedia.org/wiki/File:Laminar_boundary_layer_scheme.svg\">https://commons.wikimedia.org/wiki/File:Laminar_boundary_layer_scheme.svg</a></figcaption>\n",
    "  </center>\n",
    "</figure>\n",
    "\n",
    "To get to a solveable ODE, we start with the conservation of momentum equation (i.e., Navier–Stokes equation) in the $x$-direction:\n",
    "\\begin{equation}\n",
    "u \\frac{\\partial u}{\\partial x} + v \\frac{\\partial u}{\\partial y} = \\nu \\frac{\\partial^2 u}{\\partial y^2}\n",
    "\\end{equation}\n",
    "and the conservation of mass equation:\n",
    "\\begin{equation}\n",
    "\\frac{\\partial u}{\\partial x} + \\frac{\\partial v}{\\partial y} = 0 \\;,\n",
    "\\end{equation}\n",
    "where $u$ is the velocity component in the $x$-direction, $v$ is the velocity component in the $y$-direction, and $\\nu$ is the fluid's kinematic viscosity. The boundary conditions are that $u = v = 0$ at $y=0$, and that $u = U_{\\infty}$ as $y \\rightarrow \\infty$, where $U_{\\infty}$ is the free-stream velocity.\n",
    "\n",
    "Blasius solved this problem by converting the PDE into an ODE, by recognizing that the boundary layer thickness is given by $\\delta(x) \\sim \\sqrt{\\frac{x \\nu}{U_{\\infty}}}$, and then nondimensionalizing the position coordinates using a similarity variable\n",
    "\\begin{equation}\n",
    "\\eta = y \\sqrt{\\frac{U_{\\infty}}{2 \\nu x}}\n",
    "\\end{equation}"
   ]
  },
  {
   "cell_type": "code",
   "execution_count": null,
   "metadata": {},
   "outputs": [],
   "source": []
  }
 ],
 "metadata": {
  "kernelspec": {
   "display_name": "Matlab",
   "language": "matlab",
   "name": "matlab"
  },
  "language_info": {
   "codemirror_mode": "octave",
   "file_extension": ".m",
   "help_links": [
    {
     "text": "MetaKernel Magics",
     "url": "https://metakernel.readthedocs.io/en/latest/source/README.html"
    }
   ],
   "mimetype": "text/x-octave",
   "name": "matlab",
   "version": "0.16.7"
  }
 },
 "nbformat": 4,
 "nbformat_minor": 4
}
