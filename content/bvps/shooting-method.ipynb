{
 "cells": [
  {
   "cell_type": "markdown",
   "metadata": {},
   "source": [
    "# Shooting Method\n",
    "\n",
    "Boundary-value problems are also ordinary differential equations—the difference is that our two constraints are at boundaries of the domain, rather than both being at the starting point.\n",
    "\n",
    "For example, consider the ODE\n",
    "\\begin{equation}\n",
    "y^{\\prime\\prime} + xy^{\\prime} - xy = 2x\n",
    "\\end{equation}\n",
    "with the boundary conditions $y(0)=1$ and $y(2)=8$.\n",
    "\n",
    "The numerical methods we have already discussed (e.g., Forward Euler, Runge-Kutta) require values of $y$ and $y^{\\prime}$ at the starting point, $x=0$. So we can't use these directly because we are missing $y^{\\prime}(0)$. \n",
    "\n",
    "But, what if we could *guess* a value for the missing initial condition, then integrate towards the second boundary condition using one of our familiar numerical methods, and then adjust our guess if necessary and repeat? This concept is the **shooting method**.\n",
    "\n",
    "The shooting method algorithm is:\n",
    "\n",
    "1. Guess a value of the missing initial condition; in this case, that is $y'(0)$.\n",
    "2. Integrate the ODE like an initial-value problem, using our existing numerical methods, to get the given boundary condition(s); in this case, that is $y(L)$.\n",
    "3. Assuming your trial solution for $y(L)$ does not match the given boundary condition, adjust your guess for $y'(0)$ and repeat.\n",
    "\n",
    "Now, this algorithm will not work particularly well if all your guesses are random/uninformed. Fortunately, we can use linear interpolation to inform a third guess based on two initial attempts:\n",
    "\\begin{align}\n",
    "\\text{guess 3} &= \\text{guess 2} + m \\left( \\text{target} - \\text{solution 2} \\right) \\\\\n",
    "m &= \\frac{\\text{guess 1} - \\text{guess 2}}{\\text{solution 1} - \\text{solution 2}}\n",
    "\\end{align}\n",
    "where \"target\" is the target boundary condition—in this case, $y(L)$."
   ]
  },
  {
   "cell_type": "markdown",
   "metadata": {},
   "source": [
    "## Example: linear ODE\n",
    "\n",
    "Let's try solving the given ODE using the shooting method:\n",
    "\\begin{equation}\n",
    "y^{\\prime\\prime} + xy^{\\prime} - xy = 2x\n",
    "\\end{equation}\n",
    "with the boundary conditions $y(0)=1$ and $y(2)=8$.\n",
    "\n",
    "First, we need to convert this 2nd-order ODE into a system of two 1st-order ODEs, where we can define $u = y'$:\n",
    "\\begin{align}\n",
    "y' &= u \\\\\n",
    "u' &= 2x + xy - xu\n",
    "\\end{align}"
   ]
  },
  {
   "cell_type": "code",
   "execution_count": 1,
   "metadata": {},
   "outputs": [
    {
     "name": "stdout",
     "output_type": "stream",
     "text": [
      "Created file '/Users/niemeyek/projects/ME373-book/content/bvps/shooting_rhs.m'.\n"
     ]
    }
   ],
   "source": [
    "%%file shooting_rhs.m\n",
    "function dydx = shooting_rhs(x, y)\n",
    "\n",
    "dydx = zeros(2,1);\n",
    "dydx(1) = y(2);\n",
    "dydx(2) = 2*x - x*y(2) + x*y(1);"
   ]
  },
  {
   "cell_type": "code",
   "execution_count": 13,
   "metadata": {},
   "outputs": [
    {
     "name": "stdout",
     "output_type": "stream",
     "text": [
      "Solution 1:  6.00\n",
      "Solution 2: 11.96\n",
      "Guess 3:     2.01\n",
      "Solution 3:  8.00\n",
      "Target:      8.00\n"
     ]
    },
    {
     "data": {
      "image/png": "[encoded data removed]",
      "text/plain": [
       "<IPython.core.display.Image object>"
      ]
     },
     "metadata": {},
     "output_type": "display_data"
    }
   ],
   "source": [
    "clear all; clc\n",
    "\n",
    "% target boundary condition\n",
    "target = 8;\n",
    "\n",
    "% Pick a guess for y'(0) of 1\n",
    "guess1 = 1;\n",
    "[X, Y] = ode45('shooting_rhs', [0 2], [1 guess1]);\n",
    "solution1= Y(end,1);\n",
    "fprintf('Solution 1: %5.2f\\n', solution1);\n",
    "\n",
    "% Pick a second guess for y'(0) of 4\n",
    "guess2 = 4;\n",
    "[X, Y] = ode45('shooting_rhs', [0 2], [1 guess2]);\n",
    "solution2 = Y(end,1);\n",
    "fprintf('Solution 2: %5.2f\\n', solution2);\n",
    "\n",
    "% now use linear interpolation to find a new guess\n",
    "m = (guess1 - guess2)/(solution1 - solution2);\n",
    "guess3 = guess2 + m*(target-solution2);\n",
    "fprintf('Guess 3:    %5.2f\\n', guess3);\n",
    "\n",
    "[X, Y] = ode45('shooting_rhs', [0 2], [1 guess3]);\n",
    "solution3 = Y(end,1);\n",
    "fprintf('Solution 3: %5.2f\\n', solution3);\n",
    "fprintf('Target:     %5.2f\\n', target);\n",
    "\n",
    "plot(X, Y(:,1)); axis([0 2 0 9])"
   ]
  },
  {
   "cell_type": "markdown",
   "metadata": {},
   "source": [
    "As you can see, using linear interpolation, we are able to find the correct guess for the missing initial condition $y'(0)$ with in just three steps. This works so well because this is a *linear* ODE. If we had a nonlinear ODE, it would take more tries, as we'll see shortly."
   ]
  },
  {
   "cell_type": "markdown",
   "metadata": {},
   "source": [
    "## Example: nonlinear ODE\n",
    "\n",
    "We can use the shooting method to solve a famous fluids problem: the [Blasius boundary layer](https://en.wikipedia.org/wiki/Blasius_boundary_layer).\n",
    "\n",
    "<figure>\n",
    "  <center>\n",
    "  <img src=\"../images/boundary-layer.png\" alt=\"Laminar boundary layer, from https://commons.wikimedia.org/wiki/File:Laminar_boundary_layer_scheme.svg\" style=\"width: 400px;\"/>\n",
    "  <figcaption>Figure: Laminar boundary layer, taken from <a href=\"https://commons.wikimedia.org/wiki/File:Laminar_boundary_layer_scheme.svg\">https://commons.wikimedia.org/wiki/File:Laminar_boundary_layer_scheme.svg</a></figcaption>\n",
    "  </center>\n",
    "</figure>\n",
    "\n",
    "To get to a solveable ODE, we start with the conservation of momentum equation (i.e., Navier–Stokes equation) in the $x$-direction:\n",
    "\\begin{equation}\n",
    "u \\frac{\\partial u}{\\partial x} + v \\frac{\\partial u}{\\partial y} = \\nu \\frac{\\partial^2 u}{\\partial y^2}\n",
    "\\end{equation}\n",
    "and the conservation of mass equation:\n",
    "\\begin{equation}\n",
    "\\frac{\\partial u}{\\partial x} + \\frac{\\partial v}{\\partial y} = 0 \\;,\n",
    "\\end{equation}\n",
    "where $u$ is the velocity component in the $x$-direction, $v$ is the velocity component in the $y$-direction, and $\\nu$ is the fluid's kinematic viscosity. The boundary conditions are that $u = v = 0$ at $y=0$, and that $u = U_{\\infty}$ as $y \\rightarrow \\infty$, where $U_{\\infty}$ is the free-stream velocity.\n",
    "\n",
    "Blasius solved this problem by converting the PDE into an ODE, by recognizing that the boundary layer thickness is given by $\\delta(x) \\sim \\sqrt{\\frac{x \\nu}{U_{\\infty}}}$, and then nondimensionalizing the position coordinates using a similarity variable\n",
    "\\begin{equation}\n",
    "\\eta = y \\sqrt{\\frac{U_{\\infty}}{2 \\nu x}}\n",
    "\\end{equation}\n",
    "\n",
    "By introducing the stream function, $\\psi (x,y)$, we can ensure the continuity equation is satisfied:\n",
    "\\begin{equation}\n",
    "u = \\frac{\\partial \\psi}{\\partial y} \\;, \\quad v = -\\frac{\\partial \\psi}{\\partial x}\n",
    "\\end{equation}\n",
    "\n",
    "Let's check this, using SymPy:"
   ]
  },
  {
   "cell_type": "code",
   "execution_count": 1,
   "metadata": {},
   "outputs": [
    {
     "name": "stdout",
     "output_type": "stream",
     "text": [
      "True\n"
     ]
    }
   ],
   "source": [
    "%%python\n",
    "import sympy as sym\n",
    "sym.init_printing()\n",
    "x, y, u, v = sym.symbols('x y u v')\n",
    "\n",
    "# Streamfunction\n",
    "psi = sym.Function(r'psi')(x,y)\n",
    "\n",
    "# Define u and v based on the streamfunction\n",
    "u = psi.diff(y)\n",
    "v = -psi.diff(x)\n",
    "\n",
    "# Check the continuity equation:\n",
    "print(u.diff(x) + v.diff(y) == 0)"
   ]
  },
  {
   "cell_type": "markdown",
   "metadata": {},
   "source": [
    "Using the boundary layer thickness and free-stream velocity, we can define the dimensionlesss stream function $f(\\eta)$:\n",
    "\\begin{equation}\n",
    "f(\\eta) = \\frac{\\psi}{U_{\\infty}} \\sqrt{\\frac{U_{\\infty}}{2 \\nu x}}\n",
    "\\end{equation}\n",
    "which relates directly to the velocity components:\n",
    "\\begin{align}\n",
    "u &= \\frac{\\partial \\psi}{\\partial y} = \\frac{\\partial \\psi}{\\partial f} \\frac{\\partial f}{\\partial \\eta} \\frac{\\partial \\eta}{\\partial y} \\\\\n",
    " &= U_{\\infty} \\sqrt{\\frac{2 \\nu x}{U_{\\infty}}} \\cdot f^{\\prime}(\\eta) \\cdot \\sqrt{\\frac{U_{\\infty}}{2 \\nu x}} \\\\\n",
    "u &= U_{\\infty} f^{\\prime} (\\eta) \\\\\n",
    "v &= -\\frac{\\partial \\psi}{\\partial x} = -\\left( \\frac{\\partial \\psi}{\\partial x} + \\frac{\\partial \\psi}{\\partial \\eta} \\frac{\\partial \\eta}{\\partial x} \\right) \\\\\n",
    " &= \\sqrt{\\frac{\\nu U_{\\infty}}{2x}} \\left( \\eta f^{\\prime} - f \\right)\n",
    "\\end{align}\n",
    "\n",
    "We can insert these into the $x$-momentum equation, which leads to an ODE for the dimensionless stream function $f(\\eta)$:\n",
    "\\begin{equation}\n",
    "f^{\\prime\\prime\\prime} + f f^{\\prime\\prime} = 0 \\;,\n",
    "\\end{equation}\n",
    "with the boundary conditions $f = f^{\\prime} = 0$ at $\\eta = 0$, and $f^{\\prime} = 1$ as $\\eta \\rightarrow \\infty$.\n",
    "\n",
    "This is a 3rd-order ODE, which we can solve by converting it into three 1st-order ODEs:\n",
    "\\begin{align}\n",
    "y_1 &= f \\quad y_1^{\\prime} = y_2 \\\\\n",
    "y_2 &= f^{\\prime} \\quad y_2^{\\prime} = y_3 \\\\\n",
    "y_3 &= f^{\\prime\\prime} \\quad y_3^{\\prime} = -y_1 y_3\n",
    "\\end{align}\n",
    "and we can use the shooting method to solve by recognizing that we have two initial conditions, $y_1(0) = y_2(0) = 0$, and are missing $y_3(0)$. We also have a target boundary condition: $y_2(\\infty) = 1$.\n",
    "\n",
    "(Note: obviously we cannot truly integrate over $0 \\leq \\eta < \\infty$. Instead, we just need to choose a large enough number. In this case, using 10 is sufficient.)\n",
    "\n",
    "Let's create a function to evaluate the derivatives:"
   ]
  },
  {
   "cell_type": "code",
   "execution_count": 2,
   "metadata": {},
   "outputs": [
    {
     "name": "stdout",
     "output_type": "stream",
     "text": [
      "Created file '/Users/niemeyek/projects/ME373-book/content/bvps/blasius_rhs.m'.\n"
     ]
    }
   ],
   "source": [
    "%%file blasius_rhs.m\n",
    "function dydx = blasius_rhs(eta, y)\n",
    "\n",
    "dydx = zeros(3,1);\n",
    "\n",
    "dydx(1) = y(2);\n",
    "dydx(2) = y(3);\n",
    "dydx(3) = -y(1) * y(3);"
   ]
  },
  {
   "cell_type": "markdown",
   "metadata": {},
   "source": [
    "First, let's try the same three-step approach we used for the simpler example, taking two guesses and then using linear interpolation to find a third guess:"
   ]
  },
  {
   "cell_type": "code",
   "execution_count": 3,
   "metadata": {},
   "outputs": [
    {
     "name": "stdout",
     "output_type": "stream",
     "text": [
      "\n",
      "ans =\n",
      "\n",
      "  3x3 table\n",
      "\n",
      "    tries    guesses    solutions\n",
      "    _____    _______    _________\n",
      "\n",
      "      1            1     1.6553  \n",
      "      2          0.1     0.3566  \n",
      "      3      0.54587     1.1056  \n",
      "\n",
      "Target:  1.00\n"
     ]
    }
   ],
   "source": [
    "clear all; clc\n",
    "\n",
    "target = 1.0;\n",
    "\n",
    "guesses = zeros(3,1);\n",
    "solutions = zeros(3,1);\n",
    "\n",
    "guesses(1) = 1;\n",
    "[eta, F] = ode45('blasius_rhs', [0 10], [0 0 guesses(1)]);\n",
    "solutions(1) = F(end, 2);\n",
    "\n",
    "guesses(2) = 0.1;\n",
    "[eta, F] = ode45('blasius_rhs', [0 10], [0 0 guesses(2)]);\n",
    "solutions(2) = F(end, 2);\n",
    "\n",
    "m = (guesses(1) - guesses(2))/(solutions(1) - solutions(2));\n",
    "guesses(3) = guesses(2) + m*(target - solutions(2));\n",
    "\n",
    "[eta, F] = ode45('blasius_rhs', [0 10], [0 0 guesses(3)]);\n",
    "solutions(3) = F(end, 2);\n",
    "\n",
    "tries = [1; 2; 3];\n",
    "table(tries, guesses, solutions)\n",
    "fprintf('Target: %5.2f\\n', target);"
   ]
  },
  {
   "cell_type": "markdown",
   "metadata": {},
   "source": [
    "So, for this problem, using linear interpolation did *not* get us the correct solution on the third try. This is because the ODE is nonlinear. But, you can see that we are converging towards the correct solution—it will just take more tries.\n",
    "\n",
    "Rather than manually take an unknown (and potentially large) number of guesses, let's automate this with a `while` loop:"
   ]
  },
  {
   "cell_type": "code",
   "execution_count": 5,
   "metadata": {},
   "outputs": [
    {
     "name": "stdout",
     "output_type": "stream",
     "text": [
      "\n",
      "ans =\n",
      "\n",
      "  7x3 table\n",
      "\n",
      "    tries    guesses    solutions\n",
      "    _____    _______    _________\n",
      "\n",
      "      1            1      1.6553 \n",
      "      2          0.1      0.3566 \n",
      "      3      0.54587      1.1056 \n",
      "      4      0.48301       1.019 \n",
      "      5      0.46922     0.99951 \n",
      "      6      0.46957           1 \n",
      "      7      0.46957           1 \n",
      "\n",
      "Number of iterations required: 7"
     ]
    }
   ],
   "source": [
    "clear all; clc\n",
    "\n",
    "target = 1.0;\n",
    "\n",
    "% get these arrays of stored values started.\n",
    "% note: I'm only doing this to make it easier to show a table of values\n",
    "% at the end; otherwise, there's no need to store these values.\n",
    "tries = [1; 2; 3];\n",
    "guesses = zeros(3,1);\n",
    "solutions = zeros(3,1);\n",
    "\n",
    "guesses(1) = 1;\n",
    "[eta, F] = ode45('blasius_rhs', [0 10], [0 0 guesses(1)]);\n",
    "solutions(1) = F(end, 2);\n",
    "\n",
    "guesses(2) = 0.1;\n",
    "[eta, F] = ode45('blasius_rhs', [0 10], [0 0 guesses(2)]);\n",
    "solutions(2) = F(end, 2);\n",
    "\n",
    "num = 2;\n",
    "solutions(3) = -1000.; % doing this to kick off the while loop\n",
    "while abs(target - solutions(num)) > 1.e-9\n",
    "    num = num + 1;\n",
    "    m = (guesses(num-2) - guesses(num-1))/(solutions(num-2) - solutions(num-1));\n",
    "    guesses(num) = guesses(num-1) + m*(target - solutions(num-1));\n",
    "    [eta, F] = ode45('blasius_rhs', [0 1e3], [0 0 guesses(num)]);\n",
    "    solutions(num) = F(end, 2);\n",
    "    tries(num) = num;\n",
    "    \n",
    "    % we should probably set a maximum number of iterations, just to prevent\n",
    "    % an infinite while loop in case something goes wrong\n",
    "    if num >= 1e4\n",
    "        break\n",
    "    end\n",
    "end\n",
    "\n",
    "table(tries, guesses, solutions)\n",
    "fprintf('Number of iterations required: %d', num)"
   ]
  },
  {
   "cell_type": "code",
   "execution_count": 6,
   "metadata": {},
   "outputs": [
    {
     "data": {
      "image/png": "[encoded data removed]",
      "text/plain": [
       "<IPython.core.display.Image object>"
      ]
     },
     "metadata": {},
     "output_type": "display_data"
    }
   ],
   "source": [
    "%plot -r 200\n",
    "plot(F(:, 2), eta); ylim([0 5])\n",
    "xlabel(\"f^{\\prime}(\\eta) = u/U_{\\infty}\")\n",
    "ylabel('\\eta')"
   ]
  },
  {
   "cell_type": "markdown",
   "metadata": {},
   "source": [
    "We can see that this plot of $\\eta$, the $y$ position normalized by the boundary-layer thickness, vs. nondimensional velocity matches the original figure."
   ]
  },
  {
   "cell_type": "code",
   "execution_count": null,
   "metadata": {},
   "outputs": [],
   "source": []
  }
 ],
 "metadata": {
  "kernelspec": {
   "display_name": "Matlab",
   "language": "matlab",
   "name": "matlab"
  },
  "language_info": {
   "codemirror_mode": "octave",
   "file_extension": ".m",
   "help_links": [
    {
     "text": "MetaKernel Magics",
     "url": "https://metakernel.readthedocs.io/en/latest/source/README.html"
    }
   ],
   "mimetype": "text/x-octave",
   "name": "matlab",
   "version": "0.16.7"
  }
 },
 "nbformat": 4,
 "nbformat_minor": 4
}
