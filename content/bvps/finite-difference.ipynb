{
 "cells": [
  {
   "cell_type": "markdown",
   "metadata": {},
   "source": [
    "# Finite difference method\n",
    "\n",
    "\n",
    "## Finite differences\n",
    "\n",
    "Another method of solving boundary-value problems (and also partial differential equations, as we'll see later) involves **finite differences**, which are numerical approximations to exact derivatives.\n",
    "\n",
    "Recall that the exact derivative of a function $f(x)$ at some point $x$ is defined as:\n",
    "\\begin{equation}\n",
    "f^{\\prime}(x) = \\frac{df}{dx}(x) = \\lim_{\\Delta x \\rightarrow 0} \\frac{f(x+\\Delta x) - f(x)}{\\Delta x}\n",
    "\\end{equation}\n",
    "\n",
    "So, we can *approximate* this derivative using a finite difference (rather than an infinitesimal difference as in the exact derivative):\n",
    "\\begin{equation}\n",
    "f^{\\prime}(x) \\approx \\frac{f(x+\\Delta x) - f(x)}{\\Delta x}\n",
    "\\end{equation}\n",
    "which involves some error. This is a **forward difference** for approximating the first derivative.\n",
    "We can also approximate the first derivative using a **backward difference**:\n",
    "\\begin{equation}\n",
    "f^{\\prime}(x) \\approx \\frac{f(x) - f(x - \\Delta x)}{\\Delta x}\n",
    "\\end{equation}\n",
    "\n",
    "To understand the error involved in these differences, we can use Taylor's theorem to obtain Taylor series expansions:\n",
    "\\begin{align}\n",
    "f(x + \\Delta x) &= f(x) + \\Delta x \\, f^{\\prime}(x) + \\Delta x^2 \\frac{1}{2!} f^{\\prime\\prime}(x) + \\cdots \\\\\n",
    "\\rightarrow \\frac{f(x + \\Delta x) - f(x)}{\\Delta x} &= f^{\\prime}(x) + \\mathcal{O}\\left( \\Delta x \\right) \\\\\n",
    "f(x - \\Delta x) &= f(x) - \\Delta x \\, f^{\\prime}(x) + \\Delta x^2 \\frac{1}{2!} f^{\\prime\\prime}(x) + \\cdots \\\\\n",
    "\\rightarrow \\frac{f(x) - f(x - \\Delta x)}{\\Delta x} &= f^{\\prime}(x) + \\mathcal{O}\\left( \\Delta x \\right) \\\\\n",
    "\\end{align}\n",
    "where the $\\mathcal{O}()$ notation stands for \"order of magnitude of\". So, we can see that each of these approximations is *first-order accurate*."
   ]
  },
  {
   "cell_type": "markdown",
   "metadata": {},
   "source": [
    "## Second-order finite differences\n",
    "\n",
    "We can obtain higher-order approximations for the first derivative, and an approximations for the second derivative, by combining these Taylor series expansions:\n",
    "\\begin{align}\n",
    "f(x + \\Delta x) &= f(x) + \\Delta x \\, f^{\\prime}(x) + \\Delta x^2 \\frac{1}{2!} f^{\\prime\\prime}(x) + \\mathcal{O}\\left( \\Delta x^3 \\right) \\\\\n",
    "f(x - \\Delta x) &= f(x) - \\Delta x \\, f^{\\prime}(x) + \\Delta x^2 \\frac{1}{2!} f^{\\prime\\prime}(x) + \\mathcal{O}\\left( \\Delta x^3 \\right)\n",
    "\\end{align}\n",
    "\n",
    "Subtracting the Taylor series for $f(x+\\Delta x)$ by that for $f(x-\\Delta x)$ gives:\n",
    "\\begin{align}\n",
    "f(x + \\Delta x) - f(x - \\Delta x) &= 2 \\Delta x \\, f^{\\prime}(x) + \\mathcal{O}\\left( \\Delta x^3 \\right) \\\\\n",
    "f^{\\prime}(x) &= \\frac{f(x + \\Delta x) - f(x - \\Delta x)}{2 \\Delta x} + \\mathcal{O}\\left( \\Delta x^2 \\right)\n",
    "\\end{align}\n",
    "which is a *second-order accurate* approximation for the first derivative.\n",
    "\n",
    "Adding the Taylor series for $f(x+\\Delta x)$ to that for $f(x-\\Delta x)$ gives:\n",
    "\\begin{align}\n",
    "f(x + \\Delta x) + f(x - \\Delta x) &= 2 f(x) + \\Delta x^2 f^{\\prime\\prime}(x) + \\mathcal{O}\\left( \\Delta x^3 \\right) \\\\\n",
    "f^{\\prime\\prime}(x) &= \\frac{f(x + \\Delta x) - 2 f(x) + f(x - \\Delta x)}{\\Delta x^2} + \\mathcal{O}\\left( \\Delta x^2 \\right)\n",
    "\\end{align}\n",
    "which is a *second-order accurate* approximation for the second derivative."
   ]
  },
  {
   "cell_type": "code",
   "execution_count": null,
   "metadata": {},
   "outputs": [],
   "source": []
  }
 ],
 "metadata": {
  "kernelspec": {
   "display_name": "Matlab",
   "language": "matlab",
   "name": "matlab"
  },
  "language_info": {
   "codemirror_mode": "octave",
   "file_extension": ".m",
   "help_links": [
    {
     "text": "MetaKernel Magics",
     "url": "https://metakernel.readthedocs.io/en/latest/source/README.html"
    }
   ],
   "mimetype": "text/x-octave",
   "name": "matlab",
   "version": "0.16.7"
  }
 },
 "nbformat": 4,
 "nbformat_minor": 4
}
