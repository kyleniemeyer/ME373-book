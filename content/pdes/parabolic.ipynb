{
 "cells": [
  {
   "cell_type": "markdown",
   "metadata": {},
   "source": [
    "# Parabolic PDEs\n",
    "\n",
    "A classic example of a parabolic partial differential equation (PDE) is the one-dimensional unsteady heat equation:\n",
    "\\begin{equation}\n",
    "\\frac{\\partial T}{\\partial t} = \\alpha \\frac{\\partial^2 T}{\\partial t^2} \n",
    "\\end{equation}\n",
    "where $T(x,t)$ is the temperature varying in space and time, and $\\alpha$ is the thermal diffusivity: $\\alpha = k / (\\rho c_p)$, which is a constant.\n",
    "\n",
    "We can solve this using finite differences to represent the spatial derivatives and time derivatives separately.\n",
    "First, let's rearrange the PDE slightly:\n",
    "\\begin{equation}\n",
    "\\frac{\\partial^2 T}{\\partial x^2} = \\frac{1}{\\alpha} \\frac{\\partial T}{\\partial t}\n",
    "\\end{equation}\n",
    "\n",
    "Let's use a *central difference* for the spatial derivative with a spacing of $\\Delta x$, and a *forward difference* for the time derivative with a time-step size of $\\Delta t$. With these choices, we can obtain an approximation to the PDE that applies at time $t^k$ and spatial location $x_i$:\n",
    "\\begin{equation}\n",
    "\\frac{T_{i-1}^k - 2 T_i^k + T_{i+1}^k}{\\Delta x^2} = \\frac{1}{\\alpha} \\left( \\frac{T_i^{k+1} - T_i^k}{\\Delta t} \\right)\n",
    "\\end{equation}\n",
    "where $T_i^k$ is the temperature at time $t^k$ and spatial location $x_i$. The following figure shows the stencil of points involved in the PDE, for a domain with five points in the $x$-direction.\n",
    "\n",
    "<figure>\n",
    "  <center>\n",
    "  <img src=\"../images/parabolic-explicit-stencil.png\" alt=\"stencil for explicit parabolic solution\" style=\"width: 350px;\"/>\n",
    "  <figcaption>Figure: Stencil for explicit solution to heat equation</figcaption>\n",
    "  </center>\n",
    "</figure>\n",
    "\n",
    "To solve the heat equation for a one-dimensional domain over $0 \\leq x \\leq L$, we will need both initial conditions at $t = 0$ and boundary conditions at $x=0$ and $x=L$ (for all time). In terms of our nodal values, this means we need $T_i^{k=1}$ for $i = 1 \\ldots n$, where $n$ is the number of points, as well as information about $T_1^k$ and $T_n^k$ for all times $k$.\n",
    "\n",
    "We can rearrange the above equation to obtain our recursion formula:\n",
    "\\begin{equation}\n"
   ]
  },
  {
   "cell_type": "code",
   "execution_count": null,
   "metadata": {},
   "outputs": [],
   "source": [
    "L"
   ]
  }
 ],
 "metadata": {
  "kernelspec": {
   "display_name": "Matlab",
   "language": "matlab",
   "name": "matlab"
  },
  "language_info": {
   "codemirror_mode": "octave",
   "file_extension": ".m",
   "help_links": [
    {
     "text": "MetaKernel Magics",
     "url": "https://metakernel.readthedocs.io/en/latest/source/README.html"
    }
   ],
   "mimetype": "text/x-octave",
   "name": "matlab",
   "version": "0.16.7"
  }
 },
 "nbformat": 4,
 "nbformat_minor": 4
}
