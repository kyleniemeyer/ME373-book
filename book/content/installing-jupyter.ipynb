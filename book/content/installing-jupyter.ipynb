{
 "cells": [
  {
   "cell_type": "markdown",
   "metadata": {},
   "source": [
    "# Installing Jupyter for Matlab\n",
    "\n",
    "This guide assumes you have Matlab already installed. I'll be assuming you have Matlab R2019_b installed.\n",
    "\n",
    "To use Jupyter notebooks with Matlab, you need to install Jupyter (which relies on Python) and the Matlab engine for Python.\n",
    "\n",
    "## macOS/Linux\n",
    "\n",
    "1. I recommend you [install Anaconda](https://docs.anaconda.com/anaconda/install/) to manage your Python environment—it makes installing and managing packages very easy. This comes with the Jupyter notebook.\n",
    "\n",
    "2. Create and activate an environment called `jmatlab` for Jupyter with Python 3.7:\n",
    "\n",
    "```bash\n",
    "$ conda create -vv -n jmatlab python=3.7 jupyter\n",
    "$ conda activate jmatlab\n",
    "```\n",
    "\n",
    "Before the second command, you may need to tell your shell (e.g., bash, zsh) about conda, by doing `conda init zsh` for example. If you get an error with the `conda activate` command, your terminal should tell you to do this.\n",
    "\n",
    "You should activate this environment whenever you want to run Jupyter.\n",
    "\n",
    "3. Install the [Matlab kernel for Jupyter](https://github.com/Calysto/matlab_kernel):\n",
    "\n",
    "```bash\n",
    "$ pip install matlab_kernel\n",
    "```\n",
    "\n",
    "4. Install the [Python engine for Matlab](https://www.mathworks.com/help/matlab/matlab_external/install-the-matlab-engine-for-python.html):\n",
    "\n",
    "```bash\n",
    "$ cd /Applications/MATLAB_R2019b.app/extern/engines/python\n",
    "$ python setup.py install\n",
    "```\n",
    "\n",
    "If you are using a different version of Matlab, then that path will be different.\n",
    "\n",
    "5. Run Jupyter notebook:\n",
    "\n",
    "```bash\n",
    "$ jupyter notebook\n",
    "```\n",
    "\n",
    "and create a new Matlab notebook with \"New\" then \"Matlab\" under \"Notebook:\".\n",
    "\n",
    "## Windows\n",
    "\n",
    "1. [Install Anaconda for Windows](https://docs.anaconda.com/anaconda/install/windows/)\n",
    "\n",
    "2. Open the Anaconda Prompt\n",
    "\n",
    "(to be continued)\n"
   ]
  },
  {
   "cell_type": "markdown",
   "metadata": {},
   "source": [
    "## Try it out\n",
    "\n",
    "Now try it out:"
   ]
  },
  {
   "cell_type": "code",
   "execution_count": 2,
   "metadata": {},
   "outputs": [
    {
     "name": "stdout",
     "output_type": "stream",
     "text": [
      "This is running Matlab!\n"
     ]
    }
   ],
   "source": [
    "disp('This is running Matlab!')"
   ]
  }
 ],
 "metadata": {
  "file_extension": ".py",
  "kernelspec": {
   "display_name": "Matlab",
   "language": "matlab",
   "name": "matlab"
  },
  "language_info": {
   "codemirror_mode": "octave",
   "file_extension": ".m",
   "help_links": [
    {
     "text": "MetaKernel Magics",
     "url": "https://metakernel.readthedocs.io/en/latest/source/README.html"
    }
   ],
   "mimetype": "text/x-octave",
   "name": "matlab",
   "version": "0.16.7"
  },
  "mimetype": "text/x-python",
  "name": "python",
  "npconvert_exporter": "python",
  "pygments_lexer": "ipython3",
  "version": 3
 },
 "nbformat": 4,
 "nbformat_minor": 2
}
