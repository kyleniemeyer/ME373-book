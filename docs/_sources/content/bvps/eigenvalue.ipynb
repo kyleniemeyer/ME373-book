{
 "cells": [
  {
   "cell_type": "markdown",
   "metadata": {},
   "source": [
    "# Eigenvalue problems\n",
    "\n",
    "\"Eigenvalue\" means characteristic value. These types of problems show up in many areas involving boundary-value problems, where we may not be able to obtain an analytical solution, but we can identify certain characteristic values that tell us important information about the system: the eigenvalues.\n",
    "\n",
    "## Example: beam buckling\n",
    "\n",
    "Let's consider deflection in a simply supported (static) vertical beam: $y(x)$, with boundary conditions $y(0) = 0$ and $y(L) = 0$. To get the governing equation, start with considering the sum of moments around the upper pin:\n",
    "\\begin{align}\n",
    "\\sum M &= M_z + P y = 0 \\\\\n",
    "M_z &= -P y\n",
    "\\end{align}\n",
    "\n",
    "We also know that $M_z = E I y''$, so we can obtain\n",
    "\\begin{align}\n",
    "M_z = E I \\frac{d^2 y}{dx^2} &= -P y \\\\\n",
    "y'' + \\frac{P}{EI} y &= 0\n",
    "\\end{align}\n",
    "This equation governs the stability of a beam, considering small deflections.\n",
    "To simplify things, let's define $\\lambda^2 = \\frac{P}{EI}$, which gives us the ODE\n",
    "\\begin{equation}\n",
    "y'' + \\lambda^2 y = 0\n",
    "\\end{equation}\n",
    "We can get the general solution to this:\n",
    "\\begin{equation}\n",
    "y(x) = A \\cos (\\lambda x) + B \\sin (\\lambda x)\n",
    "\\end{equation}\n",
    "\n",
    "To find the coefficients, let's apply the boundary conditions, starting with $x=0$:\n",
    "\\begin{align}\n",
    "y(x=0) &= 0 = A \\cos 0 + B \\sin 0 \\\\\n",
    "\\rightarrow A &= 0 \\\\\n",
    "y(x=L) &= 0 = B \\sin (\\lambda L)\n",
    "\\end{align}\n",
    "Now what? $B \\neq 0$, because otherwise we would have the trivial solution $y(x) = 0$. Instead, to satisfy the boundary condition, we need\n",
    "\\begin{align}\n",
    "B \\neq 0 \\rightarrow \\sin (\\lambda L) &= 0 \\\\\n",
    "\\text{so} \\quad \\lambda L &= n \\pi \\quad n = 1, 2, 3, \\ldots, \\infty \\\\\n",
    "\\lambda &= \\frac{n \\pi}{L} \\quad n = 1, 2, 3, \\ldots, \\infty\n",
    "\\end{align}\n",
    "$\\lambda$ give the the **eigenvalues** for this problem; as you can see, there are an infinite number, that correspond to **eigenfunctions**:\n",
    "\\begin{equation}\n",
    "y_n = B \\sin \\left( \\frac{n \\pi x}{L} \\right) \\quad n = 1, 2, 3, \\ldots, \\infty\n",
    "\\end{equation}\n",
    "\n",
    "The eigenvalues and associated eigenfunctions physically represent different modes of deflection.\n",
    "For example, consider the first three modes (corresponding to $n = 1, 2, 3$):"
   ]
  },
  {
   "cell_type": "code",
   "execution_count": 3,
   "metadata": {},
   "outputs": [
    {
     "data": {
      "image/png": "[encoded data removed]",
      "text/plain": [
       "<IPython.core.display.Image object>"
      ]
     },
     "metadata": {},
     "output_type": "display_data"
    }
   ],
   "source": [
    "clear all; clc\n",
    "\n",
    "L = 1.0;\n",
    "x = linspace(0, L);\n",
    "subplot(1,3,1);\n",
    "y = sin(pi * x / L);\n",
    "plot(y, x); title('n = 1')\n",
    "subplot(1,3,2);\n",
    "y = sin(2 * pi * x / L);\n",
    "plot(y, x); title('n = 2')\n",
    "subplot(1,3,3);\n",
    "y = sin(3* pi * x / L);\n",
    "plot(y, x); title('n = 3')"
   ]
  },
  {
   "cell_type": "markdown",
   "metadata": {},
   "source": [
    "Here we see different modes of how the beam will buckle. How do we know when this happens?\n",
    "\n",
    "Recall that the eigenvalue is connected to the physical properties of the beam:\n",
    "\\begin{gather}\n",
    "\\lambda^2 = \\frac{P}{EI} \\rightarrow \\lambda = \\sqrt{\\frac{P}{EI}} = \\frac{n \\pi}{L} \\\\\n",
    "P = \\frac{EI}{L} n^2 \\pi^2\n",
    "\\end{gather}\n",
    "This means that when the combination of load force and beam properties match certain values, the beam will deflect—and buckle—in one of the modes corresponding to the associated eigenfunction.\n",
    "\n",
    "In particular, the first mode ($n=1$) is interesting, because this is the first one that will be encountered if a load starts at zero and increases. This is the **Euler critical load** of buckling, $P_{cr}$:\n",
    "\\begin{gather}\n",
    "\\lambda_1 = \\frac{\\pi}{L} \\rightarrow \\lambda_1^2 = \\frac{P}{EI} = \\frac{\\pi^2}{L^2} \\\\\n",
    "P_{cr} = \\frac{\\pi^2 E I}{L^2}\n",
    "\\end{gather}"
   ]
  },
  {
   "cell_type": "markdown",
   "metadata": {},
   "source": [
    "## Example: beam buckling with different boundary conditions\n",
    "\n",
    "Let's consider a slightly different case, where at $x=0$ the beam is supported such that $y'(0) = 0$. How does the beam buckle in this case?\n",
    "\n",
    "The governing equation and general solution are the same:\n",
    "\\begin{align}\n",
    "y'' + \\lambda^2 y &= 0 \\\\\n",
    "y(x) &= A \\cos (\\lambda x) + B \\sin (\\lambda x)\n",
    "\\end{align}\n",
    "but our boundary conditions are now different:\n",
    "\\begin{align}\n",
    "y'(0) = 0 = -\\lambda A \\sin(0) + \\lambda B\\cos(0) \\\\\n",
    "\\rightarrow B &= 0 \\\\\n",
    "y &= A \\cos (\\lambda x) \\\\\n",
    "y(L) &= 0 = A \\cos (\\lambda L) \\\\\n",
    "A \\neq 0 \\rightarrow \\cos(\\lambda L) &= 0 \\\\\n",
    "\\text{so} \\quad \\lambda L &= \\frac{(2n-1) \\pi}{2} \\quad n = 1,2,3,\\ldots, \\infty \\\\\n",
    "\\lambda &= \\frac{(2n-1) \\pi}{2 L} \\quad n = 1,2,3,\\ldots, \\infty\n",
    "\\end{align}\n",
    "\n",
    "Then, the critical buckling load, again corresponding to $n=1$, is\n",
    "\\begin{equation}\n",
    "P_{cr} = \\frac{\\pi^2 EI}{4 L^2}\n",
    "\\end{equation}"
   ]
  },
  {
   "cell_type": "markdown",
   "metadata": {},
   "source": [
    "## Getting eigenvalues numerically\n",
    "\n",
    "We can only get the eigenvalues analytically if we can obtain an analytical solution of the ODE, but we might want to get eigenvalues for more complex problems too. In that case, we can use an approach based on *finite differences* to find the eigenvalues.\n",
    "\n",
    "Consider the same problem as above, for deflection of a simply supported beam:\n",
    "\\begin{equation}\n",
    "y'' + \\lambda^2 y = 0 \n",
    "\\end{equation}\n",
    "with boundary conditions $y(0) = 0$ and $y(L) = 0$. Let's represent this using finite differences, for a case where $L=3$ and $\\Delta x = 1$, so we have four points in our solution grid.\n",
    "\n",
    "The finite difference representation of the ODE is:\n",
    "\\begin{align}\n",
    "\\frac{y_{i-1} - 2y_i + y_{i+1}}{\\Delta x^2} + \\lambda^2 y_i &= 0 \\\\\n",
    "y_{i-1} + \\left( \\lambda^2 \\Delta x^2 - 2 \\right) y_i + y_{i+1} &= 0\n",
    "\\end{align}\n",
    "However, in this case, we are not solving for the values of deflection ($y_i$), but instead the **eigenvalues** $\\lambda$.\n",
    "\n",
    "Then, we can write the system of equations using the above recursion formula and our two boundary conditions:\n",
    "\\begin{align}\n",
    "y_1 &= 0 \\\\\n",
    "y_1 + y_2 \\left( \\lambda^2 \\Delta x^2 - 2 \\right) + y_3 &= 0 \\\\\n",
    "y_2 + y_3 \\left( \\lambda^2 \\Delta x^2 - 2 \\right) + y_4 &= 0 \\\\\n",
    "y_4 &= 0\n",
    "\\end{align}\n",
    "which we can simplify down to two equations by incorporating the boundary conditions into the equations for the two middle points, and also letting $k = \\lambda^2 \\Delta x^2$:\n",
    "\\begin{align}\n",
    "y_2 (k-2) + y_3 &= 0 \\\\\n",
    "y_2 + y_3 (k-2) &= 0\n",
    "\\end{align}\n",
    "Let's modify this once more by multiplying both equations by $-1$:\n",
    "\\begin{align}\n",
    "y_2 (2-k) - y_3 &= 0 \\\\\n",
    "-y_2 + y_3 (2-k) &= 0\n",
    "\\end{align}\n",
    "\n",
    "Now we can represent this system of equations as a matrix equation $A \\mathbf{y} = \\mathbf{b} = \\mathbf{0}$:\n",
    "\\begin{equation}\n",
    "\\begin{bmatrix} 2-k & -1 \\\\ -1 & 2-k \\end{bmatrix}\n",
    "\\begin{bmatrix} y_2 \\\\ y_3 \\end{bmatrix} = \\begin{bmatrix} 0 \\\\ 0 \\end{bmatrix}\n",
    "\\end{equation}\n",
    "$\\mathbf{y} = \\mathbf{0}$ is a trivial solution to this, so instead $\\det(A) = 0$ satisfies this equation.\n",
    "For our $2\\times 2$ matrix, that looks like:\n",
    "\\begin{align}\n",
    "\\det(A) = \\begin{vmatrix} 2-k & -1 \\\\ -1 & 2-k \\end{vmatrix} = (2-k)^2 - 1 &= 0 \\\\\n",
    "k^2 - 4k + 3 &= 0 \\\\\n",
    "(k-3)(k-1) &= 0\n",
    "\\end{align}\n",
    "so the roots of this equation are $k_1 = 1$ and $k_2 = 3$. Recall that $k$ is directly related to the eigenvalue: $k = \\lambda^2 \\Delta x^2$, and $\\Delta x = 1$ for this case, so we can calculate the two associated eigenvalues:\n",
    "\\begin{align}\n",
    "k_1 &= \\lambda_1^2 \\Delta x^2 = 1 \\rightarrow \\lambda_1 = 1 \\\\\n",
    "k_2 &= \\lambda_2^2 \\Delta x^2 = 3 \\rightarrow \\lambda_2 = \\sqrt{3} = 1.732\n",
    "\\end{align}\n",
    "\n",
    "Our work has given us approximations for the first two eigenvalues. We can compare these against the exact values, given in general by $\\lambda = n \\pi / L$ (which we determined above):\n",
    "\\begin{align}\n",
    "n=1: \\quad \\lambda_1 &= \\frac{\\pi}{L} = \\frac{\\pi}{3} = 1.0472 \\\\\n",
    "n=2: \\quad \\lambda_2 &= \\frac{2\\pi}{L} = \\frac{2\\pi}{3} = 2.0944\n",
    "\\end{align}\n",
    "So, our approximations are close, but with some obvious error. This is because we used a fairly crude step size of $\\Delta x = 1$, dividing the domain into just three segments. By using a finer resolution, we can get more-accurate eigenvalues and also more of them (remember, there are actually an infinite number!). \n",
    "\n",
    "To do that, we will need to use Matlab, which offers the `eig()` function for calculating eigenvalues---essentially it is finding the roots to the polynomial given by $\\det(A) = 0$. We need to modify this slightly, though, to use the function:\n",
    "\\begin{align}\n",
    "\\det(A) &= 0 \\\\\n",
    "\\det \\left( A^* - k I \\right) = 0\n",
    "\\end{align}\n",
    "where the new matrix is\n",
    "\\begin{equation}\n",
    "A^* = \\begin{bmatrix} 2 & -1 \\\\ -1 & 2 \\end{bmatrix}\n",
    "\\end{equation}\n",
    "Then, `eig(A*)` will provide the values of $k$, which we can use to find the $\\lambda$s:"
   ]
  },
  {
   "cell_type": "code",
   "execution_count": 13,
   "metadata": {},
   "outputs": [
    {
     "name": "stdout",
     "output_type": "stream",
     "text": [
      "lambda_1:  1.000\n",
      "lambda_2:  1.732"
     ]
    }
   ],
   "source": [
    "clear all; clc\n",
    "\n",
    "dx = 1.0;\n",
    "L = 3.0;\n",
    "\n",
    "Astar = [2 -1; -1 2];\n",
    "k = eig(Astar);\n",
    "\n",
    "lambda = sqrt(k) / dx;\n",
    "\n",
    "fprintf('lambda_1: %6.3f\\n', lambda(1));\n",
    "fprintf('lambda_2: %6.3f', lambda(2));"
   ]
  },
  {
   "cell_type": "markdown",
   "metadata": {},
   "source": [
    "As expected, this matches with our manual calculation above. But, we might want to calculate these eigenvalues more accurately, so let's generalize this a bit and then try using $\\Delta x= 0.1$:"
   ]
  },
  {
   "cell_type": "code",
   "execution_count": 12,
   "metadata": {},
   "outputs": [
    {
     "name": "stdout",
     "output_type": "stream",
     "text": [
      "lambda_1:  1.047\n",
      "lambda_2:  2.091\n",
      "\n",
      "Error in lambda_1:  0.05%\n"
     ]
    }
   ],
   "source": [
    "clear all; clc\n",
    "\n",
    "dx = 0.1;\n",
    "L = 3.0;\n",
    "x = 0 : dx : L;\n",
    "n = length(x) - 2;\n",
    "\n",
    "Astar = zeros(n,n);\n",
    "for i = 1 : n\n",
    "    if i == 1\n",
    "        Astar(1,1) = 2;\n",
    "        Astar(1,2) = -1;\n",
    "    elseif i == n\n",
    "        Astar(n,n-1) = -1;\n",
    "        Astar(n,n) = 2;\n",
    "    else\n",
    "        Astar(i,i-1) = -1;\n",
    "        Astar(i,i) = 2;\n",
    "        Astar(i,i+1) = -1;\n",
    "    end\n",
    "end\n",
    "k = eig(Astar);\n",
    "\n",
    "lambda = sqrt(k) / dx;\n",
    "\n",
    "fprintf('lambda_1: %6.3f\\n', lambda(1));\n",
    "fprintf('lambda_2: %6.3f\\n\\n', lambda(2));\n",
    "\n",
    "err = abs(lambda(1) - (pi/L)) / (pi/L);\n",
    "fprintf('Error in lambda_1: %5.2f%%\\n', 100*err);"
   ]
  },
  {
   "cell_type": "markdown",
   "metadata": {},
   "source": [
    "## Example: mass-spring system\n",
    "\n",
    "Let's analyze the motion of masses connected by springs in a system:\n",
    "\n",
    ":::{figure-md} fig-mass-spring\n",
    "<img src=\"../../images/mass-spring-system.jpg\" alt=\"mass-spring system\" class=\"bg-primary mb-1\" width=\"400px\">\n",
    "\n",
    "System with two masses connected by springs\n",
    ":::\n",
    "\n",
    "First, we need to write the equations of motion, based on doing a free-body diagram on each mass:\n",
    "\\begin{align}\n",
    "m_1 \\frac{d^2 x_1}{dt^2} &= -k x_1 + k(x_2 - x_1) \\\\\n",
    "m_2 \\frac{d^2 x_2}{dt^2} &= -k (x_2 - x_1) - k x_2\n",
    "\\end{align}\n",
    "We can condense these equations a bit:\n",
    "\\begin{align}\n",
    "x_1^{\\prime\\prime} - \\frac{k}{m_1} \\left( -2 x_1 + x_2 \\right) &= 0 \\\\\n",
    "x_2^{\\prime\\prime} - \\frac{k}{m_2} \\left( x_1 - 2 x_2 \\right) &= 0\n",
    "\\end{align}\n",
    "\n",
    "To proceed, we can assume that the masses will move in a sinusoidal fashion, with a shared frequency but separate amplitude:\n",
    "\\begin{align}\n",
    "x_i &= A_i \\sin (\\omega t) \\\\\n",
    "x_i^{\\prime\\prime} &= -A_i \\omega^2 \\sin (\\omega t)\n",
    "\\end{align}\n",
    "We can plug these into the ODEs:\n",
    "\\begin{align}\n",
    "\\sin (\\omega t) \\left[ \\left( \\frac{2k}{m_1} - \\omega^2 \\right) A_1 - \\frac{k}{m_1} A_2 \\right] &= 0 \\\\\n",
    "\\sin (\\omega t) \\left[ -\\frac{k}{m_2} A_1 + \\left( \\frac{2k}{m_2} - \\omega^2 \\right) A_2 \\right] &= 0\n",
    "\\end{align}\n",
    "or\n",
    "\\begin{align}\n",
    "\\left( \\frac{2k}{m_1} - \\omega^2 \\right) A_1 - \\frac{k}{m_1} A_2 &= 0 \\\\\n",
    "-\\frac{k}{m_2} A_1 + \\left( \\frac{2k}{m_2} - \\omega^2 \\right) A_2 &= 0\n",
    "\\end{align}\n",
    "Let's put some numbers in, and try to solve for the eigenvalues: $\\omega^2$.\n",
    "Let $m_1 = m_2 = 40 $ kg and $k = 200$ N/m.\n",
    "\n",
    "Now, the equations become\n",
    "\\begin{align}\n",
    "\\left( 10 - \\omega^2 \\right) A_1 - 5 A_2 &= 0 \\\\\n",
    "-5 A_1 + \\left( 10 - \\omega^2 \\right) A_2 &= 0\n",
    "\\end{align}\n",
    "or $A \\mathbf{y} = \\mathbf{0}$, which we can represent as\n",
    "\\begin{equation}\n",
    "\\begin{bmatrix} 10-\\omega^2 & -5 \\\\ -5 & 10-\\omega^2 \\end{bmatrix}\n",
    "\\begin{bmatrix} A_1 \\\\ A_2 \\end{bmatrix} = \n",
    "\\begin{bmatrix} 0 \\\\ 0 \\end{bmatrix}\n",
    "\\end{equation}\n",
    "Here, $\\omega^2$ are the eigenvalues, and we can find them with $\\det(A) = 0$:\n",
    "\\begin{align}\n",
    "\\det(B) &= 0 \\\\\n",
    "\\det (B^* - \\omega^2 I) &= 0\n",
    "\\end{align}"
   ]
  },
  {
   "cell_type": "code",
   "execution_count": 14,
   "metadata": {},
   "outputs": [
    {
     "name": "stdout",
     "output_type": "stream",
     "text": [
      "omega_1 =  2.24 rad/s\n",
      "omega_2 =  3.87 rad/s\n"
     ]
    }
   ],
   "source": [
    "clear all; clc\n",
    "\n",
    "Bstar = [10 -5; -5 10];\n",
    "omega_squared = eig(Bstar);\n",
    "omega = sqrt(omega_squared);\n",
    "\n",
    "fprintf('omega_1 = %5.2f rad/s\\n', omega(1));\n",
    "fprintf('omega_2 = %5.2f rad/s\\n', omega(2));"
   ]
  },
  {
   "cell_type": "markdown",
   "metadata": {},
   "source": [
    "We find there are two modes of oscillation, each associated with a different natural frequency. Unfortunately, we cannot calculate independent and unique values for the amplitudes, but if we insert the values of $\\omega$ into the above equations, we can find relations connecting the amplitudes:\n",
    "\\begin{align}\n",
    "\\omega_1: \\quad A_1 &= A_2 \\\\\n",
    "\\omega_2: \\quad A_1 &= -A_2\n",
    "\\end{align}\n",
    "\n",
    "So, for the first mode, we have the two masses moving in sync with the same amplitude. In the second mode, they move with opposite (but equal) amplitude. With the two different frequencies, they also have two different periods:"
   ]
  },
  {
   "cell_type": "code",
   "execution_count": 42,
   "metadata": {},
   "outputs": [
    {
     "data": {
      "image/png": "[encoded data removed]",
      "text/plain": [
       "<IPython.core.display.Image object>"
      ]
     },
     "metadata": {},
     "output_type": "display_data"
    }
   ],
   "source": [
    "t = linspace(0, 3);\n",
    "subplot(1,5,1)\n",
    "plot(sin(omega(1)*t), t); hold on\n",
    "plot(0,0, 's');\n",
    "set (gca, 'ydir', 'reverse' )\n",
    "box off; set(gca,'Visible','off')\n",
    "\n",
    "subplot(1,5,2)\n",
    "plot(sin(omega(1)*t), t); hold on\n",
    "plot(0,0, 's');\n",
    "set (gca, 'ydir', 'reverse' )\n",
    "text(-2.5,-0.2, 'First mode')\n",
    "box off; set(gca,'Visible','off')\n",
    "\n",
    "subplot(1,5,4)\n",
    "plot(-sin(omega(2)*t), t); hold on\n",
    "plot(0,0, 's');\n",
    "set (gca, 'ydir', 'reverse' )\n",
    "box off; set(gca,'Visible','off')\n",
    "\n",
    "subplot(1,5,5)\n",
    "plot(sin(omega(2)*t), t); hold on\n",
    "plot(0,0, 's');\n",
    "set (gca, 'ydir', 'reverse' )\n",
    "box off; set(gca,'Visible','off')\n",
    "text(-2.7,-0.2, 'Second mode')"
   ]
  },
  {
   "cell_type": "markdown",
   "metadata": {},
   "source": [
    "We can confirm that the system would actually behave in this way by setting up the system of ODEs and integrating based on initial conditions matching the amplitudes of the two modes.\n",
    "\n",
    "For example, let's use $x_1 (t=0) = x_2(t=0) = 1$ for the first mode, and $x_1(t=0) = 1$ and $x_2(t=0) = -1$ for the second mode. We'll use zero initial velocity for both cases. \n",
    "\n",
    "Then, we can solve by converting the system of two 2nd-order ODEs into a system of four 1st-order ODEs:"
   ]
  },
  {
   "cell_type": "code",
   "execution_count": 57,
   "metadata": {},
   "outputs": [
    {
     "name": "stdout",
     "output_type": "stream",
     "text": [
      "Created file '/Users/niemeyek/projects/ME373-book/content/bvps/masses.m'.\n"
     ]
    }
   ],
   "source": [
    "%%file masses.m\n",
    "function dxdt = masses(t, x)\n",
    "% this is a function file to calculate the derivatives associated with the system\n",
    "\n",
    "m1 = 40;\n",
    "m2 = 40;\n",
    "k = 200;\n",
    "\n",
    "dxdt = zeros(4,1);\n",
    "\n",
    "dxdt(1) = x(2);\n",
    "dxdt(2) = (k/m1)*(-2*x(1) + x(3));\n",
    "dxdt(3) = x(4);\n",
    "dxdt(4) = (k/m2)*(x(1) - 2*x(3));"
   ]
  },
  {
   "cell_type": "code",
   "execution_count": 65,
   "metadata": {},
   "outputs": [
    {
     "data": {
      "image/png": "[encoded data removed]",
      "text/plain": [
       "<IPython.core.display.Image object>"
      ]
     },
     "metadata": {},
     "output_type": "display_data"
    }
   ],
   "source": [
    "clear all; clc\n",
    "\n",
    "% this is the integration for the system in the first mode\n",
    "[t, X] = ode45('masses', [0 3], [1.0 0.0 1.0 0.0]);\n",
    "subplot(1,5,1)\n",
    "plot(X(:,1), t); \n",
    "ylabel('displacement (m)'); xlabel('time (s)')\n",
    "set (gca, 'ydir', 'reverse' )\n",
    "%box off; set(gca,'Visible','off')\n",
    "\n",
    "subplot(1,5,2)\n",
    "plot(X(:,3), t); xlabel('time (s)')\n",
    "set (gca, 'ydir', 'reverse' )\n",
    "text(-4,-0.2, 'First mode')\n",
    "\n",
    "% this is the integration for the system in the second mode\n",
    "[t, X] = ode45('masses', [0 3], [1.0 0.0 -1.0 0.0]);\n",
    "subplot(1,5,4)\n",
    "plot(X(:,1), t);\n",
    "ylabel('displacement (m)'); xlabel('time (s)')\n",
    "set (gca, 'ydir', 'reverse' )\n",
    "%box off; set(gca,'Visible','off')\n",
    "\n",
    "subplot(1,5,5)\n",
    "plot(X(:,3), t); xlabel('time (s)')\n",
    "set (gca, 'ydir', 'reverse' )\n",
    "text(-4,-0.2, 'Second mode')"
   ]
  },
  {
   "cell_type": "markdown",
   "metadata": {},
   "source": [
    "This shows that we get either of the pure modes of motion with the appropriate initial conditions.\n",
    "\n",
    "What about if the initial conditions *don't* match either set of amplitude patterns?"
   ]
  },
  {
   "cell_type": "code",
   "execution_count": 56,
   "metadata": {},
   "outputs": [
    {
     "data": {
      "image/png": "[encoded data removed]",
      "text/plain": [
       "<IPython.core.display.Image object>"
      ]
     },
     "metadata": {},
     "output_type": "display_data"
    }
   ],
   "source": [
    "[t, X] = ode45('masses', [0 3], [0.25 0.0 0.75 0.0]);\n",
    "subplot(1,5,1)\n",
    "plot(X(:,1), t);\n",
    "%plot(0,0, 's');\n",
    "set (gca, 'ydir', 'reverse' )\n",
    "%box off; set(gca,'Visible','off')\n",
    "\n",
    "subplot(1,5,2)\n",
    "plot(X(:,3), t);\n",
    "set (gca, 'ydir', 'reverse' )\n"
   ]
  },
  {
   "cell_type": "markdown",
   "metadata": {},
   "source": [
    "In this case, the resulting motion will be a complicated superposition of the two modes."
   ]
  }
 ],
 "metadata": {
  "kernelspec": {
   "display_name": "Matlab",
   "language": "matlab",
   "name": "matlab"
  },
  "language_info": {
   "codemirror_mode": "octave",
   "file_extension": ".m",
   "help_links": [
    {
     "text": "MetaKernel Magics",
     "url": "https://metakernel.readthedocs.io/en/latest/source/README.html"
    }
   ],
   "mimetype": "text/x-octave",
   "name": "matlab",
   "version": "0.16.11"
  }
 },
 "nbformat": 4,
 "nbformat_minor": 4
}
